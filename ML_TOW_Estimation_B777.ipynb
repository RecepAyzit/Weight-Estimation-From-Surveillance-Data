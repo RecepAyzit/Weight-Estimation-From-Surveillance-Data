{
 "cells": [
  {
   "cell_type": "code",
   "execution_count": 44,
   "id": "460174f2",
   "metadata": {},
   "outputs": [],
   "source": [
    "# Machine Learning ile Takeoff Weight hesaplanmaktadır. \n",
    "# Uçuşun Climb fazındaki featureler kullanılarak model oluşturulmuştur. \n",
    "\n",
    "import pandas as pd\n",
    "from aircraftLib import JetAircraft\n",
    "from UtilityFunctions import *\n",
    "import matplotlib.pyplot as plt\n",
    "from os import listdir\n",
    "from os.path import isfile, join\n",
    "import os\n",
    "#from matplotlib.backends.backend_pdf import PdfPages\n",
    "from matplotlib import style\n",
    "import time\n",
    "\n",
    "from sklearn import model_selection \n",
    "from sklearn.svm import SVR\n",
    "from sklearn.linear_model import LinearRegression, Lasso, ElasticNet, SGDRegressor,BayesianRidge\n",
    "from sklearn.neighbors import KNeighborsRegressor\n",
    "from sklearn.model_selection import train_test_split\n",
    "from sklearn.ensemble import GradientBoostingRegressor, RandomForestRegressor,ExtraTreesRegressor\n",
    "from sklearn.kernel_ridge import KernelRidge\n",
    "from xgboost.sklearn import XGBRegressor\n",
    "\n",
    "\n",
    "\n",
    "from sklearn.preprocessing import StandardScaler\n",
    "from sklearn.decomposition import PCA\n",
    "\n",
    "from tsfresh.feature_extraction import feature_calculators, settings\n",
    "from tsfresh.utilities.dataframe_functions import impute\n",
    "from tsfresh.feature_extraction import ComprehensiveFCParameters, MinimalFCParameters, EfficientFCParameters\n",
    "from tsfresh import extract_features, extract_relevant_features, select_features\n",
    "\n",
    "from tpot import TPOTRegressor\n",
    "\n",
    "\n",
    "#from tsfresh.utilities.distribution import MultiprocessingDistributor\n",
    "#from tsfresh.utilities.dataframe_functions import impute_dataframe_range\n",
    "#from sklearn.metrics import accuracy_score\n"
   ]
  },
  {
   "cell_type": "code",
   "execution_count": null,
   "id": "c0c11a3b",
   "metadata": {},
   "outputs": [],
   "source": [
    "style.use('ggplot')\n",
    "\n",
    "basepath = \"C:/Users/Recep/Desktop/Boeing Proje/\"  ## Configure this line\n",
    "odp = 'B777_Data'  ## Airport Pairs\n",
    "datapath = basepath + odp\n",
    "\n",
    "files = [f for f in listdir(datapath) if isfile(join(datapath, f))]\n",
    "fig1 = plt.figure(1,figsize=[7, 5])\n",
    "ac = JetAircraft('B773ERGE115B')\n",
    "\n",
    "constants = {}\n",
    "constants[\"lb_to_kg\"] = 0.45359\n",
    "constants[\"hr_to_sec\"] = 1/3600\n",
    "constants[\"m_to_nm\"] = 0.0005399568\n",
    "constants[\"knot_to_ms\"] = 0.51444\n",
    "constants[\"ft_to_m\"] = 0.3048 \n",
    "\n",
    "knot_to_ms = constants[\"knot_to_ms\"]\n",
    "ft_to_m = constants[\"ft_to_m\"]\n",
    "g0 = 9.8065\n",
    "g0_feet = 32.1741"
   ]
  },
  {
   "cell_type": "code",
   "execution_count": null,
   "id": "9bd4b148",
   "metadata": {},
   "outputs": [],
   "source": [
    "from cmath import nan\n",
    "\n",
    "counter = 0\n",
    "y = []\n",
    "specificEnergyGradient = []\n",
    "specificEnergy = []\n",
    "flightPathAngle = []\n",
    "distance_from_takeoff_list = []\n",
    "landing_gear = []\n",
    "\n",
    "\n",
    "df = pd.DataFrame()\n",
    "for file in files:\n",
    "    counter +=1\n",
    "    \"\"\" if counter == 4:\n",
    "        break \"\"\"\n",
    "    filepath = os.path.join(odp, file)\n",
    "    data = pd.read_csv(filepath, low_memory=False, skiprows=1)\n",
    "    data.rename(columns={'Unnamed: 0':'Time'}, inplace=True)\n",
    "    data['id'] = np.full((len(data),1), counter-1)\n",
    "    mass_0 = data.aZFW[0] * constants['lb_to_kg'] + data.aTFQ[0]\n",
    "    fuel_flow = (data.aFF1+data.aFF2)*constants[\"lb_to_kg\"]*constants[\"hr_to_sec\"]\n",
    "    \n",
    "\n",
    "    data.drop(columns=['aGS','TRUTRAKANG','aTHRANG1','aTHRANG2','aFLAP','aGW','aWNDDIR','aWNDSPD','aSPDBRK','TRUEHEADNG','aFF1','aFF2','aTFQ','aZFW','WFCMD'], axis=1,inplace=True)\n",
    "    \n",
    "    y.append(mass_0)\n",
    "    #df = df.append(data, ignore_index=True)\n",
    "\n",
    "    distance_from_takeoff = 0\n",
    "    fuel_consumption = 0 \n",
    "    mass = []\n",
    "    takeoff_alt_list = []\n",
    "    takeoff_tas_list = []\n",
    "    sigma = pressureRatio(data.aSAP)\n",
    "    theta = temperatureRatio(data.aSAT)\n",
    "    isaDev = isaDeviation(data.aALTBARO, data.aSAT)\n",
    "    tas = cas2tas(data.aCAS, data.aALTBARO, isaDev)\n",
    "    j=0\n",
    "\n",
    "    for i in range(len(data)-1):\n",
    "        \n",
    "        if data.aLDGDSEL[i] == \"DOWN\":\n",
    "            landing_gear.append(1)\n",
    "        else:\n",
    "            landing_gear.append(0)\n",
    "        \n",
    "        horizontalSpeed = haversine((data.LATPOS[i],data.LONPOS[i]),(data.LATPOS[i+1],data.LONPOS[i+1]))\n",
    "        distance_from_takeoff = distance_from_takeoff + haversine((data.LATPOS[i],data.LONPOS[i]),(data.LATPOS[i+1],data.LONPOS[i+1])) * constants[\"m_to_nm\"]\n",
    "        flightMode, ROCD = ac.identifyFlightMode(data.aALTBARO[i+1],data.aALTBARO[i])\n",
    "\n",
    "        fuel_consumption += fuel_flow[i]\n",
    "        mass.append(mass_0 - fuel_consumption)         \n",
    "\n",
    "        #drag = ac.calculate_drag(mass[i],sigma[i],data.aMACH[i],0)\n",
    "        j+=1\n",
    "        #if np.abs(distance_from_takeoff) > 5:\n",
    "        if data.aALTBARO[i] > 1500:\n",
    "            j-=1\n",
    "            \n",
    "            Vdot = (tas[i+1]-tas[i]) * ft_to_m\n",
    "            distance_from_takeoff_list.append(distance_from_takeoff)\n",
    "            flightPathAngle.append(np.arctan2(ROCD,horizontalSpeed))\n",
    "            specEnergyGrad = tas[i] * ft_to_m * Vdot + g0 * ROCD * ft_to_m\n",
    "            specificEnergyGradient.append(specEnergyGrad)\n",
    "            specificEnergy.append(0.5*((tas[i]*ft_to_m)**2) + g0 * data.aALTBARO[i] * ft_to_m)    \n",
    "            #if np.abs(distance_from_takeoff) > 50:    # Distance to Takeoff\n",
    "            #df = df.append(data.iloc[j:i+1], ignore_index=True)\n",
    "                #break\n",
    "            #if distance_from_takeoff > 10:\n",
    "        if data.aALTBARO[i] > 25000: \n",
    "            df = df.append(data.iloc[j:i+1], ignore_index=True)\n",
    "            break\n",
    "        \n",
    "\n",
    "#new_df = df[['Time','aALTBARO','aCAS','id']].copy()\n",
    "#new_df['specEnergyGrad'] = pd.Series(specificEnergyGradient)\n",
    "df.drop(columns=['aMACH','aLDGDSEL','LATPOS','LONPOS','aSAP','aSAT'], axis=1,inplace=True)\n",
    "df['specEnergyGrad'] = pd.Series(specificEnergyGradient)\n",
    "#df['aLDGDSEL'] = pd.Series(landing_gear)\n",
    "#df['specEnergy'] = pd.Series(specificEnergy)\n",
    "df['flightPathAngle'] = pd.Series(flightPathAngle)\n",
    "df['dist2takeoff'] = pd.Series(distance_from_takeoff_list)\n",
    "df['aALTBARO'] = df['aALTBARO'] * ft_to_m\n",
    "df['aCAS'] = df['aCAS'] * knot_to_ms\n",
    "# df['aGS'] = df['aGS'] * knot_to_ms\n",
    "# df['aTHRANG1'] = df['aTHRANG1'] / 100\n",
    "# df['aTHRANG2'] = df['aTHRANG2'] / 100\n",
    "\n",
    "labels = pd.Series(y)\n",
    "df.head()"
   ]
  },
  {
   "cell_type": "code",
   "execution_count": null,
   "id": "cdd49299",
   "metadata": {},
   "outputs": [],
   "source": [
    "## Kaydedilmiş data kullanılacaksa çalıştırma burayı\n",
    "extraction_settings = MinimalFCParameters() \n",
    "#extraction_settings = ComprehensiveFCParameters() \n",
    "#extraction_settings = EfficientFCParameters() \n",
    "\n",
    "# features_filtered_direct = extract_relevant_features(df, labels,\n",
    "#                                                      column_id='id', column_sort='Time')\n",
    "X = extract_features(df, column_id='id', column_sort='Time',\n",
    "                     default_fc_parameters=extraction_settings,\n",
    "                     # we impute = remove all NaN features automatically\n",
    "                     impute_function=impute)\n",
    "\n",
    "X.head()"
   ]
  },
  {
   "cell_type": "code",
   "execution_count": null,
   "id": "50b7cfc6",
   "metadata": {},
   "outputs": [],
   "source": [
    "## Kaydedilen değişkenleri yüklemek için burayı çalıştır\n",
    "\n",
    "%store -r X_filtered\n",
    "%store -r X\n",
    "%store -r labels\n",
    "%store -r df"
   ]
  },
  {
   "cell_type": "code",
   "execution_count": null,
   "id": "53925274",
   "metadata": {},
   "outputs": [],
   "source": [
    "\"\"\" prev_item = 0\n",
    "for item in df['id']:\n",
    "    if item - prev_item > 1:\n",
    "        print(item)\n",
    "        break\n",
    "    else:\n",
    "        prev_item = item\n",
    "\n",
    "print(df['id'] == 372) \"\"\"\n",
    "\n",
    "new_labels = labels.drop(372) ### X datasında 372. data alınmamış bozuk\n",
    "\n",
    "    "
   ]
  },
  {
   "cell_type": "code",
   "execution_count": null,
   "id": "66d2741c",
   "metadata": {},
   "outputs": [],
   "source": [
    "X_filtered = select_features(X, new_labels)\n",
    "X_filtered.head()"
   ]
  },
  {
   "cell_type": "code",
   "execution_count": null,
   "id": "bc69c9f9",
   "metadata": {},
   "outputs": [],
   "source": [
    "scaler = StandardScaler()\n",
    "scaler.fit(X_filtered)\n",
    "scaled_data = scaler.transform(X_filtered)"
   ]
  },
  {
   "cell_type": "code",
   "execution_count": null,
   "id": "9c8d5b7f",
   "metadata": {},
   "outputs": [],
   "source": [
    "pca = PCA(n_components=5)\n",
    "pca.fit(scaled_data)\n",
    "x_pca = pca.transform(scaled_data)\n",
    "x_pca"
   ]
  },
  {
   "cell_type": "code",
   "execution_count": null,
   "id": "d1ef4ff6",
   "metadata": {},
   "outputs": [],
   "source": [
    "### TPOT Regression\n",
    "# X_full_train, X_full_test, y_train, y_test = train_test_split(X_filtered, new_labels, test_size=.25, train_size=.75)\n",
    "# tpot = TPOTRegressor()\n",
    "# tpot.fit(X_full_train, y_train)"
   ]
  },
  {
   "cell_type": "code",
   "execution_count": null,
   "id": "20e50ec3",
   "metadata": {},
   "outputs": [],
   "source": [
    "# print(tpot.score(X_full_test, y_test))\n",
    "# tpot.export('tpot_b777.py')"
   ]
  },
  {
   "cell_type": "code",
   "execution_count": 74,
   "id": "068afa26",
   "metadata": {},
   "outputs": [
    {
     "name": "stdout",
     "output_type": "stream",
     "text": [
      "0.8973891877927579\n"
     ]
    }
   ],
   "source": [
    "X_full_train, X_full_test, y_train, y_test = train_test_split(x_pca, new_labels, test_size=.25)\n",
    "regressor = ExtraTreesRegressor()\n",
    "regressor.fit(X_full_train, y_train)\n",
    "accuracy = regressor.score(X_full_test, y_test)\n",
    "print(accuracy)\n"
   ]
  },
  {
   "cell_type": "code",
   "execution_count": null,
   "id": "e5165061",
   "metadata": {},
   "outputs": [],
   "source": [
    "a = pd.Series(data=regressor.feature_importances_, index=X_filtered.columns).sort_values(ascending=False)\n",
    "print(a[:30])"
   ]
  },
  {
   "cell_type": "code",
   "execution_count": 75,
   "id": "664fd7b1",
   "metadata": {},
   "outputs": [
    {
     "name": "stdout",
     "output_type": "stream",
     "text": [
      "Actual Weights Mean:  309213.10926431353\n",
      "Actual Weights Standard Deviation:  38935.69304513861\n",
      "Actual Weights Max:  351449.46400000004\n",
      "Actual Weights Min:  212960.9696\n",
      "Estimated Weights Mean:  308533.48244875297\n",
      "Estimated Weights Standard Deviation:  35823.822679785975\n",
      "Estimated Weights Max:  344081.2735839997\n",
      "Estimated Weights Min:  219863.34432\n"
     ]
    }
   ],
   "source": [
    "takeoff_weight_estimation = regressor.predict(X_full_test)\n",
    "takeoff_weight_estimation_percentage = takeoff_weight_estimation / ac.reference_mass*100\n",
    "takeoff_weight_percentage = y_test / ac.reference_mass*100\n",
    "takeoff_weight_error = (y_test - takeoff_weight_estimation)/ac.reference_mass*100\n",
    "mean_takeoff_weight_error = np.mean(np.abs(takeoff_weight_error))\n",
    "std_takeoff_weight_error = np.std(takeoff_weight_error)\n",
    "\n",
    "print(\"Actual Weights Mean: \", np.mean(y_test))\n",
    "print(\"Actual Weights Standard Deviation: \", np.std(y_test))\n",
    "print(\"Actual Weights Max: \", np.max(y_test))\n",
    "print(\"Actual Weights Min: \", np.min(y_test))\n",
    "print(\"Estimated Weights Mean: \", np.mean(takeoff_weight_estimation))\n",
    "print(\"Estimated Weights Standard Deviation: \", np.std(takeoff_weight_estimation))\n",
    "print(\"Estimated Weights Max: \", np.max(takeoff_weight_estimation))\n",
    "print(\"Estimated Weights Min: \", np.min(takeoff_weight_estimation))"
   ]
  },
  {
   "cell_type": "code",
   "execution_count": 76,
   "id": "858b4cb7",
   "metadata": {},
   "outputs": [
    {
     "data": {
      "text/plain": [
       "(-40.0, 40.0)"
      ]
     },
     "execution_count": 76,
     "metadata": {},
     "output_type": "execute_result"
    }
   ],
   "source": [
    "%matplotlib qt\n",
    "fig1 = plt.figure(figsize=[7, 5])\n",
    "x = range(0,100)\n",
    "plt.plot(x,x, linewidth=.5, color = 'r')\n",
    "plt.scatter(takeoff_weight_percentage, takeoff_weight_estimation_percentage, s = 2, color = 'k')\n",
    "plt.title('Take-off Weight Estimation', fontsize=12, y=1.1)\n",
    "#plt.xlim(50, 100)\n",
    "#plt.ylim(50, 100)\n",
    "plt.ylabel('MTOW(%) Estimated')\n",
    "plt.xlabel('MTOW(%) Actual')\n",
    "plt.grid()\n",
    "\n",
    "fig2, ax2 = plt.subplots()\n",
    "plt.hist(takeoff_weight_error, bins=26, edgecolor = \"black\")\n",
    "plt.title('Take-off Weight Estimation Error', fontsize=12, y=1.1)\n",
    "plt.ylabel('Number of Aircraft')\n",
    "plt.xlabel('MTOW(%) Error')\n",
    "props = dict(boxstyle='square', facecolor='cyan', alpha=0.5)\n",
    "textstr =  f'Mean Absolute Error: {np.abs(mean_takeoff_weight_error):.2f}%MTOW\\n Standart Deviation:{std_takeoff_weight_error:.2f}%MTOW'\n",
    "plt.text(0.05, 0.95, textstr, transform = ax2.transAxes, fontsize = 8, verticalalignment ='top', bbox = props)\n",
    "plt.xlim(-40, 40)\n"
   ]
  },
  {
   "cell_type": "code",
   "execution_count": null,
   "id": "a217dfa4",
   "metadata": {},
   "outputs": [],
   "source": [
    "fig3 = plt.figure(facecolor='#f0f0f0',figsize=[15,7])\n",
    "ax1 = plt.subplot2grid((8,1), (0,0), rowspan=2, colspan=1)\n",
    "plt.ylabel('CAS (m/s)')\n",
    "plt.title('B777 Flight Data wrt Distance from Takeoff')\n",
    "ax2 = plt.subplot2grid((8,1), (2,0), rowspan=2, colspan=1, sharex=ax1)\n",
    "plt.ylabel('Altitude (m)')\n",
    "ax2v = ax2.twinx()\n",
    "ax3 = plt.subplot2grid((8,1), (4,0), rowspan=2, colspan=1, sharex=ax1)\n",
    "plt.ylabel('Specific Energy Gradient')\n",
    "ax4 = plt.subplot2grid((8,1), (6,0), rowspan=2, colspan=1, sharex=ax1)\n",
    "plt.ylabel('Specific Energy Gradient')\n",
    "plt.xlabel('Distance From Takeoff (NM)')\n",
    "\n",
    "plt.setp(ax1.get_xticklabels(), visible=False)\n",
    "plt.setp(ax2.get_xticklabels(), visible=False)\n",
    "plt.setp(ax3.get_xticklabels(), visible=False)\n",
    "\n",
    "prev_index = 0\n",
    "distance = []\n",
    "alt = []\n",
    "airspeed = []\n",
    "energy_grad = []\n",
    "flightpathang = []\n",
    "\n",
    "j = 0\n",
    "colors = ['r', 'g', 'b', 'c', 'm', 'y', 'k']\n",
    "for index in df['id']:\n",
    "    if index != prev_index:\n",
    "        color_idx = index % len(colors)\n",
    "        ax1.plot(distance, airspeed, linewidth=1, color=colors[color_idx], label=str(new_labels[index]))\n",
    "        ax2.plot(distance, alt, linewidth=1, color=colors[color_idx], label=str(new_labels[index]))\n",
    "        ax3.plot(distance, energy_grad, linewidth=1, color=colors[color_idx], label=str(new_labels[index]))\n",
    "        ax4.plot(distance, flightpathang, linewidth=1, color=colors[color_idx], label=str(new_labels[index]))\n",
    "        \n",
    "        prev_index = index\n",
    "        distance = []\n",
    "        alt = []\n",
    "        airspeed = []\n",
    "        energy_grad = []\n",
    "        flightpathang = []\n",
    "        if index == 7:\n",
    "            break\n",
    "    distance.append(df['dist2takeoff'][j])\n",
    "    alt.append(df['aALTBARO'][j])\n",
    "    airspeed.append(df['aCAS'][j])\n",
    "    energy_grad.append(df['specEnergyGrad'][j])\n",
    "    flightpathang.append(df['flightPathAngle'][j])\n",
    "    j+=1\n",
    "    \n",
    "plt.legend(loc=4, ncol=2)\n",
    "plt.show()"
   ]
  },
  {
   "cell_type": "code",
   "execution_count": null,
   "id": "0caa44a9",
   "metadata": {},
   "outputs": [],
   "source": [
    "### İşlemler uzun sürüyor o yüzden önemli değişkenleri kaydediyoruz\n",
    "\n",
    "%store X_filtered\n",
    "%store labels \n",
    "%store X \n",
    "%store df"
   ]
  }
 ],
 "metadata": {
  "kernelspec": {
   "display_name": "Python 3.9.7 ('base')",
   "language": "python",
   "name": "python3"
  },
  "language_info": {
   "codemirror_mode": {
    "name": "ipython",
    "version": 3
   },
   "file_extension": ".py",
   "mimetype": "text/x-python",
   "name": "python",
   "nbconvert_exporter": "python",
   "pygments_lexer": "ipython3",
   "version": "3.9.7"
  },
  "vscode": {
   "interpreter": {
    "hash": "d4e0717eede5735e7c08eb4fdece7940fec65604c080934d2e310f8bcf1def17"
   }
  }
 },
 "nbformat": 4,
 "nbformat_minor": 5
}
